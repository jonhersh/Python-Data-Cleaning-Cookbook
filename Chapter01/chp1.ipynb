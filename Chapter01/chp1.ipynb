{
 "cells": [
  {
   "cell_type": "code",
   "execution_count": 2,
   "metadata": {
    "collapsed": true
   },
   "outputs": [],
   "source": [
    "import pandas as pd\n",
    "\n",
    "pd.options.display.float_format = '{:,.2f}'.format\n",
    "pd.set_option('display.width', 65)\n",
    "pd.set_option('display.max_columns', 8)"
   ]
  },
  {
   "cell_type": "code",
   "execution_count": 3,
   "outputs": [],
   "source": [
    "\n",
    "landtemps = pd.read_csv('data/landtempssample.csv',\n",
    "                        names=['stationid', 'year', 'month',\n",
    "                               'avgtemp', 'latitude', 'longitude',\n",
    "                               'elevation', 'station', 'countryid',\n",
    "                               'country'],\n",
    "                        skiprows=1,\n",
    "                        parse_dates=[['month', 'year']],\n",
    "                        low_memory=False)"
   ],
   "metadata": {
    "collapsed": false,
    "pycharm": {
     "name": "#%%\n"
    }
   }
  },
  {
   "cell_type": "code",
   "execution_count": 4,
   "outputs": [
    {
     "data": {
      "text/plain": "  month_year    stationid  avgtemp  latitude  ...  elevation  \\\n0 2000-04-01  USS0010K01S     5.27     39.90  ...   2,773.70   \n1 1940-05-01  CI000085406    18.04    -18.35  ...      58.00   \n2 2013-12-01  USC00036376     6.22     34.37  ...      61.00   \n3 1963-02-01  ASN00024002    22.93    -34.28  ...      65.50   \n4 2001-11-01  ASN00028007      nan    -14.78  ...      79.40   \n\n            station countryid        country  \n0     INDIAN_CANYON        US  United States  \n1             ARICA        CI          Chile  \n2     SAINT_CHARLES        US  United States  \n3  BERRI_IRRIGATION        AS      Australia  \n4          MUSGRAVE        AS      Australia  \n\n[5 rows x 9 columns]",
      "text/html": "<div>\n<style scoped>\n    .dataframe tbody tr th:only-of-type {\n        vertical-align: middle;\n    }\n\n    .dataframe tbody tr th {\n        vertical-align: top;\n    }\n\n    .dataframe thead th {\n        text-align: right;\n    }\n</style>\n<table border=\"1\" class=\"dataframe\">\n  <thead>\n    <tr style=\"text-align: right;\">\n      <th></th>\n      <th>month_year</th>\n      <th>stationid</th>\n      <th>avgtemp</th>\n      <th>latitude</th>\n      <th>...</th>\n      <th>elevation</th>\n      <th>station</th>\n      <th>countryid</th>\n      <th>country</th>\n    </tr>\n  </thead>\n  <tbody>\n    <tr>\n      <th>0</th>\n      <td>2000-04-01</td>\n      <td>USS0010K01S</td>\n      <td>5.27</td>\n      <td>39.90</td>\n      <td>...</td>\n      <td>2,773.70</td>\n      <td>INDIAN_CANYON</td>\n      <td>US</td>\n      <td>United States</td>\n    </tr>\n    <tr>\n      <th>1</th>\n      <td>1940-05-01</td>\n      <td>CI000085406</td>\n      <td>18.04</td>\n      <td>-18.35</td>\n      <td>...</td>\n      <td>58.00</td>\n      <td>ARICA</td>\n      <td>CI</td>\n      <td>Chile</td>\n    </tr>\n    <tr>\n      <th>2</th>\n      <td>2013-12-01</td>\n      <td>USC00036376</td>\n      <td>6.22</td>\n      <td>34.37</td>\n      <td>...</td>\n      <td>61.00</td>\n      <td>SAINT_CHARLES</td>\n      <td>US</td>\n      <td>United States</td>\n    </tr>\n    <tr>\n      <th>3</th>\n      <td>1963-02-01</td>\n      <td>ASN00024002</td>\n      <td>22.93</td>\n      <td>-34.28</td>\n      <td>...</td>\n      <td>65.50</td>\n      <td>BERRI_IRRIGATION</td>\n      <td>AS</td>\n      <td>Australia</td>\n    </tr>\n    <tr>\n      <th>4</th>\n      <td>2001-11-01</td>\n      <td>ASN00028007</td>\n      <td>nan</td>\n      <td>-14.78</td>\n      <td>...</td>\n      <td>79.40</td>\n      <td>MUSGRAVE</td>\n      <td>AS</td>\n      <td>Australia</td>\n    </tr>\n  </tbody>\n</table>\n<p>5 rows × 9 columns</p>\n</div>"
     },
     "execution_count": 4,
     "metadata": {},
     "output_type": "execute_result"
    }
   ],
   "source": [
    "landtemps.head()"
   ],
   "metadata": {
    "collapsed": false,
    "pycharm": {
     "name": "#%%\n"
    }
   }
  },
  {
   "cell_type": "code",
   "execution_count": 13,
   "outputs": [
    {
     "data": {
      "text/plain": "        avgtemp   latitude  longitude  elevation\ncount 85,554.00 100,000.00 100,000.00 100,000.00\nmean      10.92      35.08     -38.12     565.56\nstd       11.52      23.55      84.30   1,073.65\nmin      -70.70     -90.00    -179.98    -350.00\n25%        3.46      33.19    -101.66      64.00\n50%       12.22      40.79     -79.57     240.80\n75%       19.57      47.42      17.53     644.70\nmax       39.95      82.52     179.75   9,999.00",
      "text/html": "<div>\n<style scoped>\n    .dataframe tbody tr th:only-of-type {\n        vertical-align: middle;\n    }\n\n    .dataframe tbody tr th {\n        vertical-align: top;\n    }\n\n    .dataframe thead th {\n        text-align: right;\n    }\n</style>\n<table border=\"1\" class=\"dataframe\">\n  <thead>\n    <tr style=\"text-align: right;\">\n      <th></th>\n      <th>avgtemp</th>\n      <th>latitude</th>\n      <th>longitude</th>\n      <th>elevation</th>\n    </tr>\n  </thead>\n  <tbody>\n    <tr>\n      <th>count</th>\n      <td>85,554.00</td>\n      <td>100,000.00</td>\n      <td>100,000.00</td>\n      <td>100,000.00</td>\n    </tr>\n    <tr>\n      <th>mean</th>\n      <td>10.92</td>\n      <td>35.08</td>\n      <td>-38.12</td>\n      <td>565.56</td>\n    </tr>\n    <tr>\n      <th>std</th>\n      <td>11.52</td>\n      <td>23.55</td>\n      <td>84.30</td>\n      <td>1,073.65</td>\n    </tr>\n    <tr>\n      <th>min</th>\n      <td>-70.70</td>\n      <td>-90.00</td>\n      <td>-179.98</td>\n      <td>-350.00</td>\n    </tr>\n    <tr>\n      <th>25%</th>\n      <td>3.46</td>\n      <td>33.19</td>\n      <td>-101.66</td>\n      <td>64.00</td>\n    </tr>\n    <tr>\n      <th>50%</th>\n      <td>12.22</td>\n      <td>40.79</td>\n      <td>-79.57</td>\n      <td>240.80</td>\n    </tr>\n    <tr>\n      <th>75%</th>\n      <td>19.57</td>\n      <td>47.42</td>\n      <td>17.53</td>\n      <td>644.70</td>\n    </tr>\n    <tr>\n      <th>max</th>\n      <td>39.95</td>\n      <td>82.52</td>\n      <td>179.75</td>\n      <td>9,999.00</td>\n    </tr>\n  </tbody>\n</table>\n</div>"
     },
     "execution_count": 13,
     "metadata": {},
     "output_type": "execute_result"
    }
   ],
   "source": [
    "\n",
    "# Replace all null values with the mean (mean can be replaced with almost any function from the statistics module)\n",
    "# landtemps.fillna(s.mean())\n",
    "landtemps.describe()\n",
    "\n"
   ],
   "metadata": {
    "collapsed": false,
    "pycharm": {
     "name": "#%%\n"
    }
   }
  },
  {
   "cell_type": "code",
   "execution_count": 19,
   "outputs": [
    {
     "data": {
      "text/plain": "month_year    912\nstationid     912\navgtemp       912\nlatitude      912\nlongitude     912\nelevation     912\nstation       912\ncountryid     912\ncountry       912\ndtype: int64"
     },
     "execution_count": 19,
     "metadata": {},
     "output_type": "execute_result"
    }
   ],
   "source": [
    "landtemps[landtemps[\"avgtemp\"] > 30].count()"
   ],
   "metadata": {
    "collapsed": false,
    "pycharm": {
     "name": "#%%\n"
    }
   }
  },
  {
   "cell_type": "markdown",
   "source": [],
   "metadata": {
    "collapsed": false,
    "pycharm": {
     "name": "#%% md\n"
    }
   }
  }
 ],
 "metadata": {
  "kernelspec": {
   "display_name": "Python 3",
   "language": "python",
   "name": "python3"
  },
  "language_info": {
   "codemirror_mode": {
    "name": "ipython",
    "version": 2
   },
   "file_extension": ".py",
   "mimetype": "text/x-python",
   "name": "python",
   "nbconvert_exporter": "python",
   "pygments_lexer": "ipython2",
   "version": "2.7.6"
  }
 },
 "nbformat": 4,
 "nbformat_minor": 0
}